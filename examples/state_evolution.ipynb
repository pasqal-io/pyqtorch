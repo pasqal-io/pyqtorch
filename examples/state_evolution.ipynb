{
 "cells": [
  {
   "cell_type": "code",
   "execution_count": 1,
   "metadata": {},
   "outputs": [
    {
     "name": "stderr",
     "output_type": "stream",
     "text": [
      "/home/aag/anaconda3/envs/pynn/lib/python3.10/site-packages/tqdm/auto.py:22: TqdmWarning: IProgress not found. Please update jupyter and ipywidgets. See https://ipywidgets.readthedocs.io/en/stable/user_install.html\n",
      "  from .autonotebook import tqdm as notebook_tqdm\n"
     ]
    }
   ],
   "source": [
    "from pyqtorch.matrices import single_Z, ZZ\n",
    "from pyqtorch.ansatz import AlternateLayerAnsatz, OneLayerXRotation, OneLayerZRotation, OneLayerEntanglingAnsatz\n",
    "from pyqtorch.core.circuit import QuantumCircuit"
   ]
  },
  {
   "cell_type": "code",
   "execution_count": 50,
   "metadata": {},
   "outputs": [],
   "source": [
    "import torch as th\n",
    "import numpy as np\n",
    "import copy"
   ]
  },
  {
   "cell_type": "markdown",
   "metadata": {},
   "source": [
    "we start initialising the `QuantumCircuit` instance in order to observe the typical shape of an input/output state in the PyQ format"
   ]
  },
  {
   "cell_type": "code",
   "execution_count": 81,
   "metadata": {},
   "outputs": [
    {
     "data": {
      "text/plain": [
       "torch.Size([2, 2, 2, 2, 1])"
      ]
     },
     "execution_count": 81,
     "metadata": {},
     "output_type": "execute_result"
    }
   ],
   "source": [
    "N = 4\n",
    "qc = QuantumCircuit(N)\n",
    "psi = qc.uniform_state(1)\n",
    "psi_0 = copy.deepcopy(psi)\n",
    "psi_0.shape"
   ]
  },
  {
   "cell_type": "markdown",
   "metadata": {},
   "source": [
    "we perform a deepcopy of `psi` as some operations below (e.g. `hamiltonian evolution`) will overwrite it"
   ]
  },
  {
   "cell_type": "code",
   "execution_count": 82,
   "metadata": {},
   "outputs": [],
   "source": [
    "def overlap(state1, state2):\n",
    "    N = len(state1.shape)-1\n",
    "    state1_T = th.transpose(state1, N, 0)\n",
    "    overlap = th.tensordot(state1.T.conj(), state2, dims=N)\n",
    "    return float(th.abs(overlap**2).flatten())"
   ]
  },
  {
   "cell_type": "code",
   "execution_count": 83,
   "metadata": {},
   "outputs": [
    {
     "name": "stdout",
     "output_type": "stream",
     "text": [
      "Initial overlap:  1.0\n"
     ]
    }
   ],
   "source": [
    "print(\"Initial overlap: \", overlap(psi_0, psi_0))"
   ]
  },
  {
   "cell_type": "markdown",
   "metadata": {},
   "source": [
    "## Hamiltonian Evolution"
   ]
  },
  {
   "cell_type": "code",
   "execution_count": 54,
   "metadata": {},
   "outputs": [],
   "source": [
    "from pyqtorch.core.operation import hamiltonian_evolution"
   ]
  },
  {
   "cell_type": "markdown",
   "metadata": {},
   "source": [
    "now let us define a simple Hamiltonian for the 2-qubits system, like a $\\sigma_Z \\otimes \\sigma_Z$, in dense format as a $(N^2, N^2)$ tensor"
   ]
  },
  {
   "cell_type": "code",
   "execution_count": 55,
   "metadata": {},
   "outputs": [
    {
     "data": {
      "text/plain": [
       "tensor([[ 1.+0.j,  0.+0.j,  0.+0.j,  0.+0.j],\n",
       "        [ 0.+0.j, -1.+0.j,  0.+0.j, -0.+0.j],\n",
       "        [ 0.+0.j,  0.+0.j, -1.+0.j, -0.+0.j],\n",
       "        [ 0.+0.j, -0.+0.j, -0.+0.j,  1.-0.j]], dtype=torch.complex128)"
      ]
     },
     "execution_count": 55,
     "metadata": {},
     "output_type": "execute_result"
    }
   ],
   "source": [
    "sigmaz = th.diag(th.tensor([1.0, -1.0], dtype=th.cdouble))\n",
    "H = th.kron(sigmaz, sigmaz)\n",
    "H.shape\n",
    "H"
   ]
  },
  {
   "cell_type": "markdown",
   "metadata": {},
   "source": [
    "The overlap with itself should stay 1 after evolving for $t=0$, let's check this"
   ]
  },
  {
   "cell_type": "code",
   "execution_count": 56,
   "metadata": {},
   "outputs": [],
   "source": [
    "t_evo = th.tensor([0], dtype=th.cdouble)\n",
    "psi = hamiltonian_evolution(H,\n",
    "                    psi, t_evo,\n",
    "                    range(N), N)"
   ]
  },
  {
   "cell_type": "code",
   "execution_count": 57,
   "metadata": {},
   "outputs": [
    {
     "name": "stdout",
     "output_type": "stream",
     "text": [
      "Overlap after tensor([0.+0.j], dtype=torch.complex128) :  1.0\n"
     ]
    }
   ],
   "source": [
    "print(f\"Overlap after {t_evo} : \", overlap(psi, psi_0))"
   ]
  },
  {
   "cell_type": "code",
   "execution_count": 58,
   "metadata": {},
   "outputs": [],
   "source": [
    "t_evo = th.tensor([th.pi/4], dtype=th.cdouble)\n",
    "psi = hamiltonian_evolution(H,\n",
    "                    psi, t_evo,\n",
    "                    range(N), N\n",
    "    )"
   ]
  },
  {
   "cell_type": "code",
   "execution_count": 59,
   "metadata": {},
   "outputs": [
    {
     "name": "stdout",
     "output_type": "stream",
     "text": [
      "Overlap after tensor([0.7854+0.j], dtype=torch.complex128) :  0.50000000002474\n"
     ]
    }
   ],
   "source": [
    "print(f\"Overlap after {t_evo} : \", overlap(psi, psi_0))"
   ]
  },
  {
   "cell_type": "markdown",
   "metadata": {},
   "source": [
    "## Arbitrary rotation on the Bloch sphere"
   ]
  },
  {
   "cell_type": "code",
   "execution_count": 84,
   "metadata": {},
   "outputs": [],
   "source": [
    "from pyqtorch.core.operation import U"
   ]
  },
  {
   "cell_type": "code",
   "execution_count": 91,
   "metadata": {},
   "outputs": [],
   "source": [
    "psi_rot = U(phi=th.tensor([th.pi/2]), theta=th.tensor([th.pi]), omega=th.tensor([0.]),\n",
    "            state=qc.uniform_state(1), qubits=[0], N_qubits=N)"
   ]
  },
  {
   "cell_type": "code",
   "execution_count": null,
   "metadata": {},
   "outputs": [],
   "source": []
  }
 ],
 "metadata": {
  "kernelspec": {
   "display_name": "Python 3.10.4 ('pynn')",
   "language": "python",
   "name": "python3"
  },
  "language_info": {
   "codemirror_mode": {
    "name": "ipython",
    "version": 3
   },
   "file_extension": ".py",
   "mimetype": "text/x-python",
   "name": "python",
   "nbconvert_exporter": "python",
   "pygments_lexer": "ipython3",
   "version": "3.10.4"
  },
  "orig_nbformat": 4,
  "vscode": {
   "interpreter": {
    "hash": "6f77e4d31a6b2b6cebe1094e9c25b1f29bee03e4b42142e04de4cbf5445e2748"
   }
  }
 },
 "nbformat": 4,
 "nbformat_minor": 2
}
