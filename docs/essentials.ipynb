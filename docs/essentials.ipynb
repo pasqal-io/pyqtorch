{
 "cells": [
  {
   "attachments": {},
   "cell_type": "markdown",
   "metadata": {},
   "source": [
    "## Gates\n",
    "\n",
    "`pyqtorch` implements most of the commonly used gates like Pauli gates, rotation\n",
    "gates, and controlled gates. Every gate accepts a sequence of `qubits` on which\n",
    "it operates and a total number `n_qubits` of the state that it will operate on:"
   ]
  },
  {
   "cell_type": "code",
   "execution_count": null,
   "metadata": {},
   "outputs": [],
   "source": [
    "import torch\n",
    "import pyqtorch.modules as pyq\n",
    "\n",
    "gate = pyq.X(qubits=[0], n_qubits=1)\n",
    "z = pyq.zero_state(n_qubits=1)\n",
    "\n",
    "gate(z)"
   ]
  },
  {
   "cell_type": "code",
   "execution_count": null,
   "metadata": {},
   "outputs": [],
   "source": [
    "gate = pyq.CNOT(qubits=[0,1], n_qubits=2)\n",
    "z = pyq.zero_state(n_qubits=2)\n",
    "gate(z)"
   ]
  },
  {
   "cell_type": "code",
   "execution_count": null,
   "metadata": {},
   "outputs": [],
   "source": [
    "z.shape"
   ]
  },
  {
   "attachments": {},
   "cell_type": "markdown",
   "metadata": {},
   "source": [
    "In `pyqtorch` the state is a `n_qubit+1` dimensional `Tensor`, for example a\n",
    "state with 3 qubits has the shape `(2, 2, 2, 1)` (i.e. one dimension for each\n",
    "qubit, plus one dimension for the batch size).\n",
    "\n",
    "\n",
    "_**NOTE:**_ We always work with batched state in `pyqtorch`."
   ]
  },
  {
   "cell_type": "code",
   "execution_count": null,
   "metadata": {},
   "outputs": [],
   "source": [
    "z = pyq.zero_state(n_qubits=3)\n",
    "print(z.shape)\n",
    "z = pyq.zero_state(n_qubits=3, batch_size=5)\n",
    "print(z.shape)"
   ]
  },
  {
   "attachments": {},
   "cell_type": "markdown",
   "metadata": {},
   "source": [
    "## Circuits\n",
    "### `QuantumCircuit`\n",
    "\n",
    "To compose multiple gates we use a `QuantumCircuit` which is constructed from\n",
    "a list of operations."
   ]
  },
  {
   "cell_type": "code",
   "execution_count": null,
   "metadata": {},
   "outputs": [],
   "source": [
    "circ = pyq.QuantumCircuit(\n",
    "    n_qubits=2,\n",
    "    operations=[\n",
    "        pyq.X([0], 2),\n",
    "        pyq.CNOT([0,1], 2)\n",
    "    ]\n",
    ")\n",
    "\n",
    "z = pyq.zero_state(2)\n",
    "circ(z)"
   ]
  },
  {
   "attachments": {},
   "cell_type": "markdown",
   "metadata": {},
   "source": [
    "Every gate and circuit in `pyqtorch` accepts a state and an optional tensor of angles.\n",
    "If the gate/circuit does not depend on any angles, the second argument is ignored."
   ]
  },
  {
   "cell_type": "code",
   "execution_count": null,
   "metadata": {},
   "outputs": [],
   "source": [
    "theta = torch.rand(1)\n",
    "circ(z, theta)  # theta is ignored"
   ]
  },
  {
   "cell_type": "code",
   "execution_count": null,
   "metadata": {},
   "outputs": [],
   "source": [
    "circ = pyq.QuantumCircuit(\n",
    "    n_qubits=2,\n",
    "    operations=[\n",
    "        pyq.RX([0], 2), # rotation instead of X gate\n",
    "        pyq.CNOT([0,1], 2)\n",
    "    ]\n",
    ")\n",
    "\n",
    "circ(z, theta)  # theta is used!"
   ]
  },
  {
   "attachments": {},
   "cell_type": "markdown",
   "metadata": {},
   "source": [
    "The vanilla `QuantumCircuit` is always passing the same `theta` tensor to its operations, meaning\n",
    "the `forward` method of the circuit is:\n",
    "```python\n",
    "class QuantumCircuit(torch.nn.Module):\n",
    "\n",
    "    # ...\n",
    "\n",
    "    def forward(self, state: torch.Tensor, thetas: torch.Tensor = None) -> torch.Tensor:\n",
    "        for op in self.operations:\n",
    "            state = op(state, thetas)\n",
    "        return state\n",
    "```\n",
    "\n",
    "The `FeaturemapLayer` is a convenience constructor for a `QuantumCircuit` which accepts an operation\n",
    "to put on every qubit."
   ]
  },
  {
   "cell_type": "code",
   "execution_count": null,
   "metadata": {},
   "outputs": [],
   "source": [
    "circ = pyq.FeaturemapLayer(n_qubits=3, Op=pyq.RX)\n",
    "print(circ)\n",
    "\n",
    "states = pyq.zero_state(n_qubits=3, batch_size=4)\n",
    "inputs = torch.rand(4)\n",
    "\n",
    "# the same batch of inputs are passed to the operations\n",
    "circ(states, inputs).shape"
   ]
  },
  {
   "attachments": {},
   "cell_type": "markdown",
   "metadata": {},
   "source": [
    "### Trainable `QuantumCircuit`s aka `VariationalLayer`s\n",
    "\n",
    "If you want the angles of your circuit to be trainable you can use a `VariationalLayer`.\n",
    "The `VariationalLayer` ignores the second input (because it has trainable angle parameters)."
   ]
  },
  {
   "cell_type": "code",
   "execution_count": null,
   "metadata": {},
   "outputs": [],
   "source": [
    "circ = pyq.VariationalLayer(n_qubits=3, Op=pyq.RX)\n",
    "\n",
    "state = pyq.zero_state(3)\n",
    "this_argument_is_ignored = None\n",
    "circ(state, this_argument_is_ignored)"
   ]
  },
  {
   "attachments": {},
   "cell_type": "markdown",
   "metadata": {},
   "source": [
    "### Composing `QuantumCircuit`s\n",
    "\n",
    "As every gate and circuit in `pyqtorch` accept the same arguments we can easily\n",
    "compose them to larger circuits, i.e. to implement a hardware efficient ansatz:"
   ]
  },
  {
   "cell_type": "code",
   "execution_count": null,
   "metadata": {},
   "outputs": [],
   "source": [
    "def hea(n_qubits: int, n_layers: int) -> pyq.QuantumCircuit:\n",
    "    ops = []\n",
    "    for _ in range(n_layers):\n",
    "        ops.append(pyq.VariationalLayer(n_qubits, pyq.RX))\n",
    "        ops.append(pyq.VariationalLayer(n_qubits, pyq.RY))\n",
    "        ops.append(pyq.VariationalLayer(n_qubits, pyq.RX))\n",
    "        ops.append(pyq.EntanglingLayer(n_qubits))\n",
    "    return pyq.QuantumCircuit(n_qubits, ops)\n",
    "\n",
    "circ = hea(3,2)\n",
    "print(circ)\n",
    "\n",
    "state = pyq.zero_state(3)\n",
    "circ(state)"
   ]
  }
 ],
 "metadata": {
  "kernelspec": {
   "display_name": "qucint",
   "language": "python",
   "name": "python3"
  },
  "language_info": {
   "codemirror_mode": {
    "name": "ipython",
    "version": 3
   },
   "file_extension": ".py",
   "mimetype": "text/x-python",
   "name": "python",
   "nbconvert_exporter": "python",
   "pygments_lexer": "ipython3",
   "version": "3.9.16"
  },
  "orig_nbformat": 4
 },
 "nbformat": 4,
 "nbformat_minor": 2
}
