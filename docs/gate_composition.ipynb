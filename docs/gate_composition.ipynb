{
 "cells": [
  {
   "attachments": {},
   "cell_type": "markdown",
   "metadata": {},
   "source": [
    "# Arbitrary Gate Composition\n",
    "\n",
    "To create new arbitrary gates, one need only multiply two gates together, as per the following examples."
   ]
  },
  {
   "cell_type": "code",
   "execution_count": 1,
   "metadata": {},
   "outputs": [],
   "source": [
    "from pyqtorch.modules import RX, RY, RZ, U\n",
    "from torch import pi, Tensor as tensor"
   ]
  },
  {
   "cell_type": "code",
   "execution_count": 2,
   "metadata": {},
   "outputs": [
    {
     "name": "stdout",
     "output_type": "stream",
     "text": [
      "QuantumCircuit(\n",
      "  (operations): ModuleList(\n",
      "    (0): RX(qubits=[0], n_qubits=1)\n",
      "    (1): RY(qubits=[0], n_qubits=1)\n",
      "  )\n",
      ")\n"
     ]
    }
   ],
   "source": [
    "gateA = RX(qubits=[0], n_qubits=1)\n",
    "gateB = RY(qubits=[0], n_qubits=1)\n",
    "gateC = gateA*gateB\n",
    "\n",
    "print(gateC)"
   ]
  },
  {
   "cell_type": "code",
   "execution_count": 3,
   "metadata": {},
   "outputs": [
    {
     "name": "stdout",
     "output_type": "stream",
     "text": [
      "QuantumCircuit(\n",
      "  (operations): ModuleList(\n",
      "    (0): RZ(qubits=[0], n_qubits=1)\n",
      "    (1): RY(qubits=[0], n_qubits=1)\n",
      "    (2): RZ(qubits=[0], n_qubits=1)\n",
      "  )\n",
      ")\n"
     ]
    }
   ],
   "source": [
    "def customGate(*args, **kwargs):\n",
    "    return RZ(*args, **kwargs) * RY(*args, **kwargs) * RZ(*args, **kwargs)\n",
    "\n",
    "circ = customGate(qubits=[0], n_qubits=1)\n",
    "\n",
    "print(circ)"
   ]
  },
  {
   "cell_type": "code",
   "execution_count": 4,
   "metadata": {},
   "outputs": [
    {
     "name": "stdout",
     "output_type": "stream",
     "text": [
      "QuantumCircuit(\n",
      "  (operations): ModuleList(\n",
      "    (0): RX(qubits=[0], n_qubits=1)\n",
      "    (1): RY(qubits=[0], n_qubits=1)\n",
      "    (2): RX(qubits=[0], n_qubits=1)\n",
      "    (3): RZ(qubits=[0], n_qubits=1)\n",
      "  )\n",
      ")\n"
     ]
    }
   ],
   "source": [
    "def customGate(*args, **kwargs):\n",
    "    return (RX(*args, **kwargs) * RY(*args, **kwargs)) * (RX(*args, **kwargs) * RZ(*args, **kwargs))\n",
    "\n",
    "circ = customGate(qubits=[0], n_qubits=1)\n",
    "\n",
    "print(circ)"
   ]
  }
 ],
 "metadata": {
  "kernelspec": {
   "display_name": "Python 3",
   "language": "python",
   "name": "python3"
  },
  "language_info": {
   "codemirror_mode": {
    "name": "ipython",
    "version": 3
   },
   "file_extension": ".py",
   "mimetype": "text/x-python",
   "name": "python",
   "nbconvert_exporter": "python",
   "pygments_lexer": "ipython3",
   "version": "3.8.1"
  },
  "orig_nbformat": 4
 },
 "nbformat": 4,
 "nbformat_minor": 2
}
